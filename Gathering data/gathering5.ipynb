{
 "cells": [
  {
   "cell_type": "code",
   "execution_count": 2,
   "id": "a3b1a1e8",
   "metadata": {},
   "outputs": [],
   "source": [
    "import wptools"
   ]
  },
  {
   "cell_type": "code",
   "execution_count": 3,
   "id": "9c81e953",
   "metadata": {},
   "outputs": [
    {
     "name": "stderr",
     "output_type": "stream",
     "text": [
      "en.wikipedia.org (query) Citizen_Kane\n",
      "en.wikipedia.org (query) Citizen Kane (&plcontinue=5224|0|Nicolas...\n",
      "en.wikipedia.org (parse) 5224\n",
      "www.wikidata.org (wikidata) Q24815\n",
      "www.wikidata.org (labels) P1015|Q3057498|Q22253133|P462|P166|Q103...\n",
      "www.wikidata.org (labels) P6145|P2755|Q645928|Q812|Q1966965|Q5421...\n",
      "www.wikidata.org (labels) P840|P915|P3804|P2047|P7118|Q12912091|P...\n",
      "www.wikidata.org (labels) P272|P646|P2509|P6584|Q925872|P5099|P32...\n",
      "en.wikipedia.org (restbase) /page/summary/Citizen_Kane\n",
      "en.wikipedia.org (imageinfo) File:Citizen Kane poster, 1941 (Styl...\n",
      "Citizen Kane (en) data\n",
      "{\n",
      "  WARNINGS: <dict(1)> extracts\n",
      "  assessments: <dict(4)> United States, Film, Guild of Copy Editor...\n",
      "  claims: <dict(129)> P57, P345, P373, P58, P161, P344, P272, P31,...\n",
      "  description: 1941 film by Orson Welles\n",
      "  exhtml: <str(844)> <p><i><b>Citizen Kane</b></i> is a 1941 Ameri...\n",
      "  exrest: <str(798)> Citizen Kane is a 1941 American drama film pr...\n",
      "  extext: <str(2412)> _**Citizen Kane**_ is a 1941 American drama ...\n",
      "  extract: <str(3651)> <p class=\"mw-empty-elt\"></p><p class=\"mw-em...\n",
      "  image: <list(9)> {'kind': 'query-pageimage', 'file': 'File:Citiz...\n",
      "  infobox: <dict(19)> name, image, alt, caption, director, produce...\n",
      "  iwlinks: <list(3)> https://commons.wikimedia.org/wiki/category:C...\n",
      "  label: Citizen Kane\n",
      "  labels: <dict(196)> P1015, Q3057498, Q22253133, P462, P166, Q103...\n",
      "  length: 234,639\n",
      "  links: <list(898)> 14th Academy Awards, 16th Satellite Awards, 1...\n",
      "  modified: <dict(2)> page, wikidata\n",
      "  pageid: 5224\n",
      "  parsetree: <str(309009)> <root><template><title>For</title><part...\n",
      "  random: Condylarth\n",
      "  redirects: <list(12)> {'pageid': 225269, 'ns': 0, 'title': 'Citz...\n",
      "  requests: <list(10)> query, query, parse, wikidata, labels, labe...\n",
      "  title: Citizen_Kane\n",
      "  url: https://en.wikipedia.org/wiki/Citizen_Kane\n",
      "  url_raw: https://en.wikipedia.org/wiki/Citizen_Kane?action=raw\n",
      "  watchers: 450\n",
      "  what: film\n",
      "  wikibase: Q24815\n",
      "  wikidata: <dict(129)> director (P57), IMDb ID (P345), Commons ca...\n",
      "  wikidata_pageid: 28213\n",
      "  wikidata_url: https://www.wikidata.org/wiki/Q24815\n",
      "  wikitext: <str(233521)> {{For|the band|Citizen Kane (band)}}{{go...\n",
      "}\n"
     ]
    }
   ],
   "source": [
    "page = wptools.page('Citizen_Kane').get()"
   ]
  },
  {
   "cell_type": "code",
   "execution_count": 11,
   "id": "13d0fbf8",
   "metadata": {},
   "outputs": [
    {
     "data": {
      "text/plain": [
       "{'kind': 'parse-image',\n",
       " 'file': 'File:E t the extra terrestrial ver3.jpg',\n",
       " 'orig': 'E t the extra terrestrial ver3.jpg',\n",
       " 'timestamp': '2016-06-04T10:30:46Z',\n",
       " 'size': 83073,\n",
       " 'width': 253,\n",
       " 'height': 394,\n",
       " 'url': 'https://upload.wikimedia.org/wikipedia/en/6/66/E_t_the_extra_terrestrial_ver3.jpg',\n",
       " 'descriptionurl': 'https://en.wikipedia.org/wiki/File:E_t_the_extra_terrestrial_ver3.jpg',\n",
       " 'descriptionshorturl': 'https://en.wikipedia.org/w/index.php?curid=7419503',\n",
       " 'title': 'File:E t the extra terrestrial ver3.jpg',\n",
       " 'metadata': {'DateTime': {'value': '2016-06-04 10:30:46',\n",
       "   'source': 'mediawiki-metadata',\n",
       "   'hidden': ''},\n",
       "  'ObjectName': {'value': 'E t the extra terrestrial ver3',\n",
       "   'source': 'mediawiki-metadata',\n",
       "   'hidden': ''},\n",
       "  'CommonsMetadataExtension': {'value': 1.2,\n",
       "   'source': 'extension',\n",
       "   'hidden': ''},\n",
       "  'Categories': {'value': 'All non-free media|E.T. the Extra-Terrestrial|Fair use images of film posters|Files with no machine-readable author|Noindexed pages|Wikipedia non-free files for NFUR review|Wikipedia non-free files with valid backlink',\n",
       "   'source': 'commons-categories',\n",
       "   'hidden': ''},\n",
       "  'Assessments': {'value': '', 'source': 'commons-categories', 'hidden': ''},\n",
       "  'ImageDescription': {'value': '<p>This is a poster for  <i>E.T. the Extra-Terrestrial</i>. <br>The poster art copyright is believed to belong to <a href=\"//en.wikipedia.org/wiki/John_Alvin\" title=\"John Alvin\">John Alvin</a>.\\n</p>',\n",
       "   'source': 'commons-desc-page'},\n",
       "  'Credit': {'value': '<p>The poster art can or could be obtained from <a href=\"//en.wikipedia.org/wiki/John_Alvin\" title=\"John Alvin\">John Alvin</a>.\\n</p>',\n",
       "   'source': 'commons-desc-page',\n",
       "   'hidden': ''},\n",
       "  'LicenseShortName': {'value': 'Fair use',\n",
       "   'source': 'commons-desc-page',\n",
       "   'hidden': ''},\n",
       "  'UsageTerms': {'value': '<a href=\"//en.wikipedia.org/wiki/Wikipedia:Non-free_use_rationale_guideline\" title=\"Wikipedia:Non-free use rationale guideline\">Fair use</a> of copyrighted material in the context of <a href=\"//en.wikipedia.org/wiki/E.T._the_Extra-Terrestrial\" title=\"E.T. the Extra-Terrestrial\">E.T. the Extra-Terrestrial</a>',\n",
       "   'source': 'commons-desc-page',\n",
       "   'hidden': ''},\n",
       "  'Attribution': {'value': '<p>The poster art can or could be obtained from <a href=\"//en.wikipedia.org/wiki/John_Alvin\" title=\"John Alvin\">John Alvin</a>.\\n</p>',\n",
       "   'source': 'commons-desc-page',\n",
       "   'hidden': ''},\n",
       "  'LicenseUrl': {'value': '//en.wikipedia.org/wiki/File:E_t_the_extra_terrestrial_ver3.jpg',\n",
       "   'source': 'commons-desc-page',\n",
       "   'hidden': ''},\n",
       "  'NonFree': {'value': 'true', 'source': 'commons-desc-page', 'hidden': ''},\n",
       "  'Copyrighted': {'value': 'True',\n",
       "   'source': 'commons-desc-page',\n",
       "   'hidden': ''},\n",
       "  'Restrictions': {'value': '', 'source': 'commons-desc-page', 'hidden': ''}}}"
      ]
     },
     "execution_count": 11,
     "metadata": {},
     "output_type": "execute_result"
    }
   ],
   "source": [
    "page.data['image'][0]"
   ]
  },
  {
   "cell_type": "code",
   "execution_count": 6,
   "id": "4c5be517",
   "metadata": {},
   "outputs": [
    {
     "data": {
      "text/plain": [
       "{'name': 'E.T. the Extra-Terrestrial',\n",
       " 'image': 'E t the extra terrestrial ver3.jpg',\n",
       " 'caption': 'Theatrical release poster by [[John Alvin]]',\n",
       " 'director': '[[Steven Spielberg]]',\n",
       " 'producers': '{{unbulleted list|[[Kathleen Kennedy (producer)|Kathleen Kennedy]]|Steven Spielberg}}',\n",
       " 'writer': '[[Melissa Mathison]]',\n",
       " 'starring': '{{Plainlist|<!--Per poster billing-->|\\n* [[Dee Wallace]]\\n* [[Henry Thomas]]\\n* [[Peter Coyote]]\\n* [[Robert MacNaughton]]\\n* [[Drew Barrymore]]}} * [[Dee Wallace]]\\n* [[Henry Thomas]]\\n* [[Peter Coyote]]\\n* [[Robert MacNaughton]]\\n* [[Drew Barrymore]]',\n",
       " 'music': '[[John Williams]]',\n",
       " 'cinematography': '[[Allen Daviau]]',\n",
       " 'editing': '[[Carol Littleton]]',\n",
       " 'studio': '{{Plainlist|\\n* [[Universal Pictures]]\\n* [[Amblin Entertainment|Amblin Productions]]}}',\n",
       " 'distributor': 'Universal Pictures',\n",
       " 'released': '{{Film date|1982|5|26|[[1982 Cannes Film Festival|Cannes]]|1982|6|11|United States}}',\n",
       " 'runtime': '114 minutes (original) <br/>120 minutes (2002 version)',\n",
       " 'country': 'United States',\n",
       " 'language': 'English',\n",
       " 'budget': '$10.5 million',\n",
       " 'gross': '$792.9 million'}"
      ]
     },
     "execution_count": 6,
     "metadata": {},
     "output_type": "execute_result"
    }
   ],
   "source": [
    "infobox_json = page.data['infobox']\n",
    "infobox_json"
   ]
  },
  {
   "cell_type": "code",
   "execution_count": 7,
   "id": "9f0ddd09",
   "metadata": {},
   "outputs": [
    {
     "data": {
      "text/plain": [
       "'{{Film date|1982|5|26|[[1982 Cannes Film Festival|Cannes]]|1982|6|11|United States}}'"
      ]
     },
     "execution_count": 7,
     "metadata": {},
     "output_type": "execute_result"
    }
   ],
   "source": [
    "infobox_json['released']"
   ]
  },
  {
   "cell_type": "code",
   "execution_count": 8,
   "id": "f0c6ccd3",
   "metadata": {},
   "outputs": [
    {
     "data": {
      "text/plain": [
       "'[[Steven Spielberg]]'"
      ]
     },
     "execution_count": 8,
     "metadata": {},
     "output_type": "execute_result"
    }
   ],
   "source": [
    "page.data['infobox']['director']"
   ]
  },
  {
   "cell_type": "code",
   "execution_count": 7,
   "id": "cc14a704",
   "metadata": {},
   "outputs": [],
   "source": [
    "images = page.data['image']"
   ]
  },
  {
   "cell_type": "code",
   "execution_count": 8,
   "id": "6c7c6d24",
   "metadata": {},
   "outputs": [
    {
     "data": {
      "text/plain": [
       "'https://upload.wikimedia.org/wikipedia/commons/c/c0/Citizen_Kane_poster%2C_1941_%28Style_B%2C_unrestored%29.jpg'"
      ]
     },
     "execution_count": 8,
     "metadata": {},
     "output_type": "execute_result"
    }
   ],
   "source": [
    "images[0]['url']"
   ]
  },
  {
   "cell_type": "code",
   "execution_count": null,
   "id": "be48a9b8",
   "metadata": {},
   "outputs": [],
   "source": []
  }
 ],
 "metadata": {
  "kernelspec": {
   "display_name": "Python 3 (ipykernel)",
   "language": "python",
   "name": "python3"
  },
  "language_info": {
   "codemirror_mode": {
    "name": "ipython",
    "version": 3
   },
   "file_extension": ".py",
   "mimetype": "text/x-python",
   "name": "python",
   "nbconvert_exporter": "python",
   "pygments_lexer": "ipython3",
   "version": "3.8.11"
  }
 },
 "nbformat": 4,
 "nbformat_minor": 5
}
